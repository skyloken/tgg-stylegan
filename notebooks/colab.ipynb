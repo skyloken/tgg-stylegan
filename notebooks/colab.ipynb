{
  "nbformat": 4,
  "nbformat_minor": 0,
  "metadata": {
    "orig_nbformat": 2,
    "file_extension": ".py",
    "mimetype": "text/x-python",
    "name": "python",
    "npconvert_exporter": "python",
    "pygments_lexer": "ipython3",
    "version": 3,
    "colab": {
      "name": "colab.ipynb",
      "provenance": [],
      "include_colab_link": true
    },
    "kernelspec": {
      "name": "python3",
      "display_name": "Python 3"
    },
    "accelerator": "GPU"
  },
  "cells": [
    {
      "cell_type": "markdown",
      "metadata": {
        "id": "view-in-github",
        "colab_type": "text"
      },
      "source": [
        "<a href=\"https://colab.research.google.com/github/skyloken/tgg-stylegan/blob/master/notebooks/colab.ipynb\" target=\"_parent\"><img src=\"https://colab.research.google.com/assets/colab-badge.svg\" alt=\"Open In Colab\"/></a>"
      ]
    },
    {
      "cell_type": "code",
      "metadata": {
        "id": "eFDG-MNxHldI",
        "colab_type": "code",
        "colab": {
          "base_uri": "https://localhost:8080/",
          "height": 306
        },
        "outputId": "cd9e2016-c75a-41e7-be35-a95503b078c3"
      },
      "source": [
        "!nvidia-smi"
      ],
      "execution_count": 1,
      "outputs": [
        {
          "output_type": "stream",
          "text": [
            "Sat Dec 21 11:16:29 2019       \n",
            "+-----------------------------------------------------------------------------+\n",
            "| NVIDIA-SMI 440.44       Driver Version: 418.67       CUDA Version: 10.1     |\n",
            "|-------------------------------+----------------------+----------------------+\n",
            "| GPU  Name        Persistence-M| Bus-Id        Disp.A | Volatile Uncorr. ECC |\n",
            "| Fan  Temp  Perf  Pwr:Usage/Cap|         Memory-Usage | GPU-Util  Compute M. |\n",
            "|===============================+======================+======================|\n",
            "|   0  Tesla P100-PCIE...  Off  | 00000000:00:04.0 Off |                    0 |\n",
            "| N/A   39C    P0    26W / 250W |      0MiB / 16280MiB |      0%      Default |\n",
            "+-------------------------------+----------------------+----------------------+\n",
            "                                                                               \n",
            "+-----------------------------------------------------------------------------+\n",
            "| Processes:                                                       GPU Memory |\n",
            "|  GPU       PID   Type   Process name                             Usage      |\n",
            "|=============================================================================|\n",
            "|  No running processes found                                                 |\n",
            "+-----------------------------------------------------------------------------+\n"
          ],
          "name": "stdout"
        }
      ]
    },
    {
      "cell_type": "code",
      "metadata": {
        "id": "baKZ8k5gHldP",
        "colab_type": "code",
        "colab": {
          "base_uri": "https://localhost:8080/",
          "height": 122
        },
        "outputId": "63902993-e99e-43e3-b146-54a936cfb9b2"
      },
      "source": [
        "from google.colab import drive\n",
        "drive.mount('/content/drive')"
      ],
      "execution_count": 2,
      "outputs": [
        {
          "output_type": "stream",
          "text": [
            "Go to this URL in a browser: https://accounts.google.com/o/oauth2/auth?client_id=947318989803-6bn6qk8qdgf4n4g3pfee6491hc0brc4i.apps.googleusercontent.com&redirect_uri=urn%3aietf%3awg%3aoauth%3a2.0%3aoob&response_type=code&scope=email%20https%3a%2f%2fwww.googleapis.com%2fauth%2fdocs.test%20https%3a%2f%2fwww.googleapis.com%2fauth%2fdrive%20https%3a%2f%2fwww.googleapis.com%2fauth%2fdrive.photos.readonly%20https%3a%2f%2fwww.googleapis.com%2fauth%2fpeopleapi.readonly\n",
            "\n",
            "Enter your authorization code:\n",
            "··········\n",
            "Mounted at /content/drive\n"
          ],
          "name": "stdout"
        }
      ]
    },
    {
      "cell_type": "code",
      "metadata": {
        "id": "4oxO2ERhHldS",
        "colab_type": "code",
        "colab": {
          "base_uri": "https://localhost:8080/",
          "height": 136
        },
        "outputId": "884b11c2-cfe8-4fee-fba0-5a80d3506926"
      },
      "source": [
        "!git clone https://github.com/skyloken/tgg-stylegan.git\n",
        "%cd tgg-stylegan"
      ],
      "execution_count": 3,
      "outputs": [
        {
          "output_type": "stream",
          "text": [
            "Cloning into 'tgg-stylegan'...\n",
            "remote: Enumerating objects: 90, done.\u001b[K\n",
            "remote: Counting objects:   1% (1/90)\u001b[K\rremote: Counting objects:   2% (2/90)\u001b[K\rremote: Counting objects:   3% (3/90)\u001b[K\rremote: Counting objects:   4% (4/90)\u001b[K\rremote: Counting objects:   5% (5/90)\u001b[K\rremote: Counting objects:   6% (6/90)\u001b[K\rremote: Counting objects:   7% (7/90)\u001b[K\rremote: Counting objects:   8% (8/90)\u001b[K\rremote: Counting objects:  10% (9/90)\u001b[K\rremote: Counting objects:  11% (10/90)\u001b[K\rremote: Counting objects:  12% (11/90)\u001b[K\rremote: Counting objects:  13% (12/90)\u001b[K\rremote: Counting objects:  14% (13/90)\u001b[K\rremote: Counting objects:  15% (14/90)\u001b[K\rremote: Counting objects:  16% (15/90)\u001b[K\rremote: Counting objects:  17% (16/90)\u001b[K\rremote: Counting objects:  18% (17/90)\u001b[K\rremote: Counting objects:  20% (18/90)\u001b[K\rremote: Counting objects:  21% (19/90)\u001b[K\rremote: Counting objects:  22% (20/90)\u001b[K\rremote: Counting objects:  23% (21/90)\u001b[K\rremote: Counting objects:  24% (22/90)\u001b[K\rremote: Counting objects:  25% (23/90)\u001b[K\rremote: Counting objects:  26% (24/90)\u001b[K\rremote: Counting objects:  27% (25/90)\u001b[K\rremote: Counting objects:  28% (26/90)\u001b[K\rremote: Counting objects:  30% (27/90)\u001b[K\rremote: Counting objects:  31% (28/90)\u001b[K\rremote: Counting objects:  32% (29/90)\u001b[K\rremote: Counting objects:  33% (30/90)\u001b[K\rremote: Counting objects:  34% (31/90)\u001b[K\rremote: Counting objects:  35% (32/90)\u001b[K\rremote: Counting objects:  36% (33/90)\u001b[K\rremote: Counting objects:  37% (34/90)\u001b[K\rremote: Counting objects:  38% (35/90)\u001b[K\rremote: Counting objects:  40% (36/90)\u001b[K\rremote: Counting objects:  41% (37/90)\u001b[K\rremote: Counting objects:  42% (38/90)\u001b[K\rremote: Counting objects:  43% (39/90)\u001b[K\rremote: Counting objects:  44% (40/90)\u001b[K\rremote: Counting objects:  45% (41/90)\u001b[K\rremote: Counting objects:  46% (42/90)\u001b[K\rremote: Counting objects:  47% (43/90)\u001b[K\rremote: Counting objects:  48% (44/90)\u001b[K\rremote: Counting objects:  50% (45/90)\u001b[K\rremote: Counting objects:  51% (46/90)\u001b[K\rremote: Counting objects:  52% (47/90)\u001b[K\rremote: Counting objects:  53% (48/90)\u001b[K\rremote: Counting objects:  54% (49/90)\u001b[K\rremote: Counting objects:  55% (50/90)\u001b[K\rremote: Counting objects:  56% (51/90)\u001b[K\rremote: Counting objects:  57% (52/90)\u001b[K\rremote: Counting objects:  58% (53/90)\u001b[K\rremote: Counting objects:  60% (54/90)\u001b[K\rremote: Counting objects:  61% (55/90)\u001b[K\rremote: Counting objects:  62% (56/90)\u001b[K\rremote: Counting objects:  63% (57/90)\u001b[K\rremote: Counting objects:  64% (58/90)\u001b[K\rremote: Counting objects:  65% (59/90)\u001b[K\rremote: Counting objects:  66% (60/90)\u001b[K\rremote: Counting objects:  67% (61/90)\u001b[K\rremote: Counting objects:  68% (62/90)\u001b[K\rremote: Counting objects:  70% (63/90)\u001b[K\rremote: Counting objects:  71% (64/90)\u001b[K\rremote: Counting objects:  72% (65/90)\u001b[K\rremote: Counting objects:  73% (66/90)\u001b[K\rremote: Counting objects:  74% (67/90)\u001b[K\rremote: Counting objects:  75% (68/90)\u001b[K\rremote: Counting objects:  76% (69/90)\u001b[K\rremote: Counting objects:  77% (70/90)\u001b[K\rremote: Counting objects:  78% (71/90)\u001b[K\rremote: Counting objects:  80% (72/90)\u001b[K\rremote: Counting objects:  81% (73/90)\u001b[K\rremote: Counting objects:  82% (74/90)\u001b[K\rremote: Counting objects:  83% (75/90)\u001b[K\rremote: Counting objects:  84% (76/90)\u001b[K\rremote: Counting objects:  85% (77/90)\u001b[K\rremote: Counting objects:  86% (78/90)\u001b[K\rremote: Counting objects:  87% (79/90)\u001b[K\rremote: Counting objects:  88% (80/90)\u001b[K\rremote: Counting objects:  90% (81/90)\u001b[K\rremote: Counting objects:  91% (82/90)\u001b[K\rremote: Counting objects:  92% (83/90)\u001b[K\rremote: Counting objects:  93% (84/90)\u001b[K\rremote: Counting objects:  94% (85/90)\u001b[K\rremote: Counting objects:  95% (86/90)\u001b[K\rremote: Counting objects:  96% (87/90)\u001b[K\rremote: Counting objects:  97% (88/90)\u001b[K\rremote: Counting objects:  98% (89/90)\u001b[K\rremote: Counting objects: 100% (90/90)\u001b[K\rremote: Counting objects: 100% (90/90), done.\u001b[K\n",
            "remote: Compressing objects:   1% (1/68)\u001b[K\rremote: Compressing objects:   2% (2/68)\u001b[K\rremote: Compressing objects:   4% (3/68)\u001b[K\rremote: Compressing objects:   5% (4/68)\u001b[K\rremote: Compressing objects:   7% (5/68)\u001b[K\rremote: Compressing objects:   8% (6/68)\u001b[K\rremote: Compressing objects:  10% (7/68)\u001b[K\rremote: Compressing objects:  11% (8/68)\u001b[K\rremote: Compressing objects:  13% (9/68)\u001b[K\rremote: Compressing objects:  14% (10/68)\u001b[K\rremote: Compressing objects:  16% (11/68)\u001b[K\rremote: Compressing objects:  17% (12/68)\u001b[K\rremote: Compressing objects:  19% (13/68)\u001b[K\rremote: Compressing objects:  20% (14/68)\u001b[K\rremote: Compressing objects:  22% (15/68)\u001b[K\rremote: Compressing objects:  23% (16/68)\u001b[K\rremote: Compressing objects:  25% (17/68)\u001b[K\rremote: Compressing objects:  26% (18/68)\u001b[K\rremote: Compressing objects:  27% (19/68)\u001b[K\rremote: Compressing objects:  29% (20/68)\u001b[K\rremote: Compressing objects:  30% (21/68)\u001b[K\rremote: Compressing objects:  32% (22/68)\u001b[K\rremote: Compressing objects:  33% (23/68)\u001b[K\rremote: Compressing objects:  35% (24/68)\u001b[K\rremote: Compressing objects:  36% (25/68)\u001b[K\rremote: Compressing objects:  38% (26/68)\u001b[K\rremote: Compressing objects:  39% (27/68)\u001b[K\rremote: Compressing objects:  41% (28/68)\u001b[K\rremote: Compressing objects:  42% (29/68)\u001b[K\rremote: Compressing objects:  44% (30/68)\u001b[K\rremote: Compressing objects:  45% (31/68)\u001b[K\rremote: Compressing objects:  47% (32/68)\u001b[K\rremote: Compressing objects:  48% (33/68)\u001b[K\rremote: Compressing objects:  50% (34/68)\u001b[K\rremote: Compressing objects:  51% (35/68)\u001b[K\rremote: Compressing objects:  52% (36/68)\u001b[K\rremote: Compressing objects:  54% (37/68)\u001b[K\rremote: Compressing objects:  55% (38/68)\u001b[K\rremote: Compressing objects:  57% (39/68)\u001b[K\rremote: Compressing objects:  58% (40/68)\u001b[K\rremote: Compressing objects:  60% (41/68)\u001b[K\rremote: Compressing objects:  61% (42/68)\u001b[K\rremote: Compressing objects:  63% (43/68)\u001b[K\rremote: Compressing objects:  64% (44/68)\u001b[K\rremote: Compressing objects:  66% (45/68)\u001b[K\rremote: Compressing objects:  67% (46/68)\u001b[K\rremote: Compressing objects:  69% (47/68)\u001b[K\rremote: Compressing objects:  70% (48/68)\u001b[K\rremote: Compressing objects:  72% (49/68)\u001b[K\rremote: Compressing objects:  73% (50/68)\u001b[K\rremote: Compressing objects:  75% (51/68)\u001b[K\rremote: Compressing objects:  76% (52/68)\u001b[K\rremote: Compressing objects:  77% (53/68)\u001b[K\rremote: Compressing objects:  79% (54/68)\u001b[K\rremote: Compressing objects:  80% (55/68)\u001b[K\rremote: Compressing objects:  82% (56/68)\u001b[K\rremote: Compressing objects:  83% (57/68)\u001b[K\rremote: Compressing objects:  85% (58/68)\u001b[K\rremote: Compressing objects:  86% (59/68)\u001b[K\rremote: Compressing objects:  88% (60/68)\u001b[K\rremote: Compressing objects:  89% (61/68)\u001b[K\rremote: Compressing objects:  91% (62/68)\u001b[K\rremote: Compressing objects:  92% (63/68)\u001b[K\rremote: Compressing objects:  94% (64/68)\u001b[K\rremote: Compressing objects:  95% (65/68)\u001b[K\rremote: Compressing objects:  97% (66/68)\u001b[K\rremote: Compressing objects:  98% (67/68)\u001b[K\rremote: Compressing objects: 100% (68/68)\u001b[K\rremote: Compressing objects: 100% (68/68), done.\u001b[K\n",
            "Unpacking objects:   1% (1/90)   \rUnpacking objects:   2% (2/90)   \rUnpacking objects:   3% (3/90)   \rUnpacking objects:   4% (4/90)   \rUnpacking objects:   5% (5/90)   \rUnpacking objects:   6% (6/90)   \rUnpacking objects:   7% (7/90)   \rUnpacking objects:   8% (8/90)   \rUnpacking objects:  10% (9/90)   \rUnpacking objects:  11% (10/90)   \rUnpacking objects:  12% (11/90)   \rUnpacking objects:  13% (12/90)   \rUnpacking objects:  14% (13/90)   \rUnpacking objects:  15% (14/90)   \rUnpacking objects:  16% (15/90)   \rUnpacking objects:  17% (16/90)   \rUnpacking objects:  18% (17/90)   \rUnpacking objects:  20% (18/90)   \rUnpacking objects:  21% (19/90)   \rUnpacking objects:  22% (20/90)   \rUnpacking objects:  23% (21/90)   \rUnpacking objects:  24% (22/90)   \rUnpacking objects:  25% (23/90)   \rUnpacking objects:  26% (24/90)   \rUnpacking objects:  27% (25/90)   \rUnpacking objects:  28% (26/90)   \rUnpacking objects:  30% (27/90)   \rUnpacking objects:  31% (28/90)   \rUnpacking objects:  32% (29/90)   \rUnpacking objects:  33% (30/90)   \rUnpacking objects:  34% (31/90)   \rUnpacking objects:  35% (32/90)   \rUnpacking objects:  36% (33/90)   \rUnpacking objects:  37% (34/90)   \rUnpacking objects:  38% (35/90)   \rUnpacking objects:  40% (36/90)   \rUnpacking objects:  41% (37/90)   \rUnpacking objects:  42% (38/90)   \rUnpacking objects:  43% (39/90)   \rUnpacking objects:  44% (40/90)   \rUnpacking objects:  45% (41/90)   \rUnpacking objects:  46% (42/90)   \rUnpacking objects:  47% (43/90)   \rUnpacking objects:  48% (44/90)   \rUnpacking objects:  50% (45/90)   \rUnpacking objects:  51% (46/90)   \rUnpacking objects:  52% (47/90)   \rUnpacking objects:  53% (48/90)   \rUnpacking objects:  54% (49/90)   \rUnpacking objects:  55% (50/90)   \rUnpacking objects:  56% (51/90)   \rUnpacking objects:  57% (52/90)   \rUnpacking objects:  58% (53/90)   \rUnpacking objects:  60% (54/90)   \rUnpacking objects:  61% (55/90)   \rUnpacking objects:  62% (56/90)   \rUnpacking objects:  63% (57/90)   \rUnpacking objects:  64% (58/90)   \rUnpacking objects:  65% (59/90)   \rUnpacking objects:  66% (60/90)   \rUnpacking objects:  67% (61/90)   \rUnpacking objects:  68% (62/90)   \rUnpacking objects:  70% (63/90)   \rUnpacking objects:  71% (64/90)   \rUnpacking objects:  72% (65/90)   \rUnpacking objects:  73% (66/90)   \rUnpacking objects:  74% (67/90)   \rUnpacking objects:  75% (68/90)   \rUnpacking objects:  76% (69/90)   \rUnpacking objects:  77% (70/90)   \rUnpacking objects:  78% (71/90)   \rUnpacking objects:  80% (72/90)   \rUnpacking objects:  81% (73/90)   \rUnpacking objects:  82% (74/90)   \rUnpacking objects:  83% (75/90)   \rUnpacking objects:  84% (76/90)   \rUnpacking objects:  85% (77/90)   \rUnpacking objects:  86% (78/90)   \rUnpacking objects:  87% (79/90)   \rUnpacking objects:  88% (80/90)   \rUnpacking objects:  90% (81/90)   \rUnpacking objects:  91% (82/90)   \rUnpacking objects:  92% (83/90)   \rremote: Total 90 (delta 22), reused 84 (delta 19), pack-reused 0\u001b[K\n",
            "Unpacking objects:  93% (84/90)   \rUnpacking objects:  94% (85/90)   \rUnpacking objects:  95% (86/90)   \rUnpacking objects:  96% (87/90)   \rUnpacking objects:  97% (88/90)   \rUnpacking objects:  98% (89/90)   \rUnpacking objects: 100% (90/90)   \rUnpacking objects: 100% (90/90), done.\n",
            "/content/tgg-stylegan\n"
          ],
          "name": "stdout"
        }
      ]
    },
    {
      "cell_type": "code",
      "metadata": {
        "id": "COcDqhTiJDwB",
        "colab_type": "code",
        "colab": {}
      },
      "source": [
        "# Change result_dir and data_dir in config.py\n",
        "!python train.py"
      ],
      "execution_count": 0,
      "outputs": []
    },
    {
      "cell_type": "code",
      "metadata": {
        "id": "Sz_in7NwJHW3",
        "colab_type": "code",
        "colab": {}
      },
      "source": [
        "# !python generate_my_figures.py"
      ],
      "execution_count": 0,
      "outputs": []
    }
  ]
}