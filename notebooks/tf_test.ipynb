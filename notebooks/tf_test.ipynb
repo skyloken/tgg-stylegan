{
 "nbformat": 4,
 "nbformat_minor": 2,
 "metadata": {
  "language_info": {
   "name": "python",
   "codemirror_mode": {
    "name": "ipython",
    "version": 3
   },
   "version": "3.7.5"
  },
  "orig_nbformat": 2,
  "file_extension": ".py",
  "mimetype": "text/x-python",
  "name": "python",
  "npconvert_exporter": "python",
  "pygments_lexer": "ipython3",
  "version": 3,
  "pycharm": {
   "stem_cell": {
    "cell_type": "raw",
    "source": [],
    "metadata": {
     "collapsed": false
    }
   }
  },
  "kernelspec": {
   "name": "python3",
   "language": "python",
   "display_name": "Python 3"
  }
 },
 "cells": [
  {
   "source": [
    "import tensorflow as tf\n",
    "import numpy as np\n",
    "tf.enable_eager_execution()"
   ],
   "cell_type": "code",
   "outputs": [],
   "metadata": {
    "pycharm": {
     "is_executing": false
    }
   },
   "execution_count": 1
  },
  {
   "source": [
    "src_dlatents = tf.constant([[[0, 1, 2]] * 14, [[3, 4, 5]] * 14])\n",
    "dst_dlatents = tf.constant([[[6, 7, 8]] * 14, [[9, 10, 11]] * 14])"
   ],
   "cell_type": "code",
   "outputs": [],
   "metadata": {
    "pycharm": {
     "is_executing": false
    }
   },
   "execution_count": 2
  },
  {
   "source": [
    "print(src_dlatents)\n",
    "print(dst_dlatents)"
   ],
   "cell_type": "code",
   "outputs": [
    {
     "name": "stdout",
     "text": [
      "tf.Tensor(\n",
      "[[[0 1 2]\n",
      "  [0 1 2]\n",
      "  [0 1 2]\n",
      "  [0 1 2]\n",
      "  [0 1 2]\n",
      "  [0 1 2]\n",
      "  [0 1 2]\n",
      "  [0 1 2]\n",
      "  [0 1 2]\n",
      "  [0 1 2]\n",
      "  [0 1 2]\n",
      "  [0 1 2]\n",
      "  [0 1 2]\n",
      "  [0 1 2]]\n",
      "\n",
      " [[3 4 5]\n",
      "  [3 4 5]\n",
      "  [3 4 5]\n",
      "  [3 4 5]\n",
      "  [3 4 5]\n",
      "  [3 4 5]\n",
      "  [3 4 5]\n",
      "  [3 4 5]\n",
      "  [3 4 5]\n",
      "  [3 4 5]\n",
      "  [3 4 5]\n",
      "  [3 4 5]\n",
      "  [3 4 5]\n",
      "  [3 4 5]]], shape=(2, 14, 3), dtype=int32)\n",
      "tf.Tensor(\n",
      "[[[ 6  7  8]\n",
      "  [ 6  7  8]\n",
      "  [ 6  7  8]\n",
      "  [ 6  7  8]\n",
      "  [ 6  7  8]\n",
      "  [ 6  7  8]\n",
      "  [ 6  7  8]\n",
      "  [ 6  7  8]\n",
      "  [ 6  7  8]\n",
      "  [ 6  7  8]\n",
      "  [ 6  7  8]\n",
      "  [ 6  7  8]\n",
      "  [ 6  7  8]\n",
      "  [ 6  7  8]]\n",
      "\n",
      " [[ 9 10 11]\n",
      "  [ 9 10 11]\n",
      "  [ 9 10 11]\n",
      "  [ 9 10 11]\n",
      "  [ 9 10 11]\n",
      "  [ 9 10 11]\n",
      "  [ 9 10 11]\n",
      "  [ 9 10 11]\n",
      "  [ 9 10 11]\n",
      "  [ 9 10 11]\n",
      "  [ 9 10 11]\n",
      "  [ 9 10 11]\n",
      "  [ 9 10 11]\n",
      "  [ 9 10 11]]], shape=(2, 14, 3), dtype=int32)\n"
     ],
     "output_type": "stream"
    }
   ],
   "metadata": {
    "pycharm": {
     "is_executing": false
    }
   },
   "execution_count": 3
  },
  {
   "source": [
    "mixed_dlatents = []\n",
    "for i in range(0, src_dlatents.get_shape().as_list()[0]):\n",
    "    middle_dlatent = tf.concat([tf.gather(src_dlatents[i], range(0, 4)), tf.gather(dst_dlatents[i], range(4, 8)), tf.gather(src_dlatents[i], range(8, 14))], 0)\n",
    "    fine_dlatent = tf.concat([tf.gather(src_dlatents[i], range(0, 8)), tf.gather(dst_dlatents[i], range(8, 14))], 0)\n",
    "    mixed_dlatents.append(middle_dlatent)\n",
    "    mixed_dlatents.append(fine_dlatent)\n",
    "mixed_dlatents = tf.stack(mixed_dlatents)\n",
    "print(mixed_dlatents)\n"
   ],
   "cell_type": "code",
   "outputs": [
    {
     "name": "stdout",
     "text": [
      "tf.Tensor(\n",
      "[[[ 0  1  2]\n",
      "  [ 0  1  2]\n",
      "  [ 0  1  2]\n",
      "  [ 0  1  2]\n",
      "  [ 6  7  8]\n",
      "  [ 6  7  8]\n",
      "  [ 6  7  8]\n",
      "  [ 6  7  8]\n",
      "  [ 0  1  2]\n",
      "  [ 0  1  2]\n",
      "  [ 0  1  2]\n",
      "  [ 0  1  2]\n",
      "  [ 0  1  2]\n",
      "  [ 0  1  2]]\n",
      "\n",
      " [[ 0  1  2]\n",
      "  [ 0  1  2]\n",
      "  [ 0  1  2]\n",
      "  [ 0  1  2]\n",
      "  [ 0  1  2]\n",
      "  [ 0  1  2]\n",
      "  [ 0  1  2]\n",
      "  [ 0  1  2]\n",
      "  [ 6  7  8]\n",
      "  [ 6  7  8]\n",
      "  [ 6  7  8]\n",
      "  [ 6  7  8]\n",
      "  [ 6  7  8]\n",
      "  [ 6  7  8]]\n",
      "\n",
      " [[ 3  4  5]\n",
      "  [ 3  4  5]\n",
      "  [ 3  4  5]\n",
      "  [ 3  4  5]\n",
      "  [ 9 10 11]\n",
      "  [ 9 10 11]\n",
      "  [ 9 10 11]\n",
      "  [ 9 10 11]\n",
      "  [ 3  4  5]\n",
      "  [ 3  4  5]\n",
      "  [ 3  4  5]\n",
      "  [ 3  4  5]\n",
      "  [ 3  4  5]\n",
      "  [ 3  4  5]]\n",
      "\n",
      " [[ 3  4  5]\n",
      "  [ 3  4  5]\n",
      "  [ 3  4  5]\n",
      "  [ 3  4  5]\n",
      "  [ 3  4  5]\n",
      "  [ 3  4  5]\n",
      "  [ 3  4  5]\n",
      "  [ 3  4  5]\n",
      "  [ 9 10 11]\n",
      "  [ 9 10 11]\n",
      "  [ 9 10 11]\n",
      "  [ 9 10 11]\n",
      "  [ 9 10 11]\n",
      "  [ 9 10 11]]], shape=(4, 14, 3), dtype=int32)\n"
     ],
     "output_type": "stream"
    }
   ],
   "metadata": {
    "pycharm": {
     "is_executing": false
    }
   },
   "execution_count": 4
  },
  {
   "source": [
    "def mix_middle(x):\n",
    "    return tf.concat([tf.gather(x[0], list(range(0, 4))), tf.gather(x[1], list(range(4, 8))),\n",
    "                      tf.gather(x[0], list(range(8, 14)))], 0)\n",
    "\n",
    "def mix_fine(x):\n",
    "    return tf.concat([tf.gather(x[0], list(range(0, 8))), tf.gather(x[1], list(range(8, 14)))], 0)\n",
    "\n",
    "def mix_dlatents(src_dlatents, dst_dlatents):\n",
    "    stacked_dlatents = tf.stack([src_dlatents, dst_dlatents], axis=1)\n",
    "    middle_dlatents = tf.map_fn(mix_middle, stacked_dlatents)\n",
    "    fine_dlatents = tf.map_fn(mix_fine, stacked_dlatents)\n",
    "    return tf.concat([middle_dlatents, fine_dlatents], 0)\n",
    "\n",
    "print(mix_dlatents(src_dlatents, dst_dlatents))"
   ],
   "cell_type": "code",
   "outputs": [
    {
     "name": "stdout",
     "text": [
      "tf.Tensor(\n",
      "[[[ 0  1  2]\n",
      "  [ 0  1  2]\n",
      "  [ 0  1  2]\n",
      "  [ 0  1  2]\n",
      "  [ 6  7  8]\n",
      "  [ 6  7  8]\n",
      "  [ 6  7  8]\n",
      "  [ 6  7  8]\n",
      "  [ 0  1  2]\n",
      "  [ 0  1  2]\n",
      "  [ 0  1  2]\n",
      "  [ 0  1  2]\n",
      "  [ 0  1  2]\n",
      "  [ 0  1  2]]\n",
      "\n",
      " [[ 3  4  5]\n",
      "  [ 3  4  5]\n",
      "  [ 3  4  5]\n",
      "  [ 3  4  5]\n",
      "  [ 9 10 11]\n",
      "  [ 9 10 11]\n",
      "  [ 9 10 11]\n",
      "  [ 9 10 11]\n",
      "  [ 3  4  5]\n",
      "  [ 3  4  5]\n",
      "  [ 3  4  5]\n",
      "  [ 3  4  5]\n",
      "  [ 3  4  5]\n",
      "  [ 3  4  5]]\n",
      "\n",
      " [[ 0  1  2]\n",
      "  [ 0  1  2]\n",
      "  [ 0  1  2]\n",
      "  [ 0  1  2]\n",
      "  [ 0  1  2]\n",
      "  [ 0  1  2]\n",
      "  [ 0  1  2]\n",
      "  [ 0  1  2]\n",
      "  [ 6  7  8]\n",
      "  [ 6  7  8]\n",
      "  [ 6  7  8]\n",
      "  [ 6  7  8]\n",
      "  [ 6  7  8]\n",
      "  [ 6  7  8]]\n",
      "\n",
      " [[ 3  4  5]\n",
      "  [ 3  4  5]\n",
      "  [ 3  4  5]\n",
      "  [ 3  4  5]\n",
      "  [ 3  4  5]\n",
      "  [ 3  4  5]\n",
      "  [ 3  4  5]\n",
      "  [ 3  4  5]\n",
      "  [ 9 10 11]\n",
      "  [ 9 10 11]\n",
      "  [ 9 10 11]\n",
      "  [ 9 10 11]\n",
      "  [ 9 10 11]\n",
      "  [ 9 10 11]]], shape=(4, 14, 3), dtype=int32)\n"
     ],
     "output_type": "stream"
    }
   ],
   "metadata": {
    "pycharm": {
     "is_executing": false
    }
   },
   "execution_count": 5
  },
  {
   "cell_type": "code",
   "execution_count": 6,
   "outputs": [
    {
     "name": "stdout",
     "text": [
      "tf.Tensor([1 2 3], shape=(3,), dtype=int32)\n",
      "tf.Tensor([1 2], shape=(2,), dtype=int32)\n"
     ],
     "output_type": "stream"
    },
    {
     "traceback": [
      "\u001b[0;31m---------------------------------------------------------------------------\u001b[0m",
      "\u001b[0;31mInvalidArgumentError\u001b[0m                      Traceback (most recent call last)",
      "\u001b[0;32m<ipython-input-6-323f2bbb98bc>\u001b[0m in \u001b[0;36m<module>\u001b[0;34m\u001b[0m\n\u001b[1;32m      3\u001b[0m \u001b[0mprint\u001b[0m\u001b[0;34m(\u001b[0m\u001b[0ma\u001b[0m\u001b[0;34m)\u001b[0m\u001b[0;34m\u001b[0m\u001b[0;34m\u001b[0m\u001b[0m\n\u001b[1;32m      4\u001b[0m \u001b[0mprint\u001b[0m\u001b[0;34m(\u001b[0m\u001b[0mb\u001b[0m\u001b[0;34m)\u001b[0m\u001b[0;34m\u001b[0m\u001b[0;34m\u001b[0m\u001b[0m\n\u001b[0;32m----> 5\u001b[0;31m \u001b[0mc\u001b[0m \u001b[0;34m=\u001b[0m \u001b[0mtf\u001b[0m\u001b[0;34m.\u001b[0m\u001b[0madd\u001b[0m\u001b[0;34m(\u001b[0m\u001b[0ma\u001b[0m\u001b[0;34m,\u001b[0m \u001b[0mb\u001b[0m\u001b[0;34m)\u001b[0m\u001b[0;34m\u001b[0m\u001b[0;34m\u001b[0m\u001b[0m\n\u001b[0m\u001b[1;32m      6\u001b[0m \u001b[0mprint\u001b[0m\u001b[0;34m(\u001b[0m\u001b[0mc\u001b[0m\u001b[0;34m)\u001b[0m\u001b[0;34m\u001b[0m\u001b[0;34m\u001b[0m\u001b[0m\n\u001b[1;32m      7\u001b[0m \u001b[0mc\u001b[0m\u001b[0;34m\u001b[0m\u001b[0;34m\u001b[0m\u001b[0m\n",
      "\u001b[0;32m~/.local/share/virtualenvs/python-machine-learning-book-2nd-edition-WTV_pu26/lib/python3.7/site-packages/tensorflow_core/python/ops/gen_math_ops.py\u001b[0m in \u001b[0;36madd\u001b[0;34m(x, y, name)\u001b[0m\n\u001b[1;32m    389\u001b[0m       \u001b[0;32melse\u001b[0m\u001b[0;34m:\u001b[0m\u001b[0;34m\u001b[0m\u001b[0;34m\u001b[0m\u001b[0m\n\u001b[1;32m    390\u001b[0m         \u001b[0mmessage\u001b[0m \u001b[0;34m=\u001b[0m \u001b[0me\u001b[0m\u001b[0;34m.\u001b[0m\u001b[0mmessage\u001b[0m\u001b[0;34m\u001b[0m\u001b[0;34m\u001b[0m\u001b[0m\n\u001b[0;32m--> 391\u001b[0;31m       \u001b[0m_six\u001b[0m\u001b[0;34m.\u001b[0m\u001b[0mraise_from\u001b[0m\u001b[0;34m(\u001b[0m\u001b[0m_core\u001b[0m\u001b[0;34m.\u001b[0m\u001b[0m_status_to_exception\u001b[0m\u001b[0;34m(\u001b[0m\u001b[0me\u001b[0m\u001b[0;34m.\u001b[0m\u001b[0mcode\u001b[0m\u001b[0;34m,\u001b[0m \u001b[0mmessage\u001b[0m\u001b[0;34m)\u001b[0m\u001b[0;34m,\u001b[0m \u001b[0;32mNone\u001b[0m\u001b[0;34m)\u001b[0m\u001b[0;34m\u001b[0m\u001b[0;34m\u001b[0m\u001b[0m\n\u001b[0m\u001b[1;32m    392\u001b[0m   \u001b[0;31m# Add nodes to the TensorFlow graph.\u001b[0m\u001b[0;34m\u001b[0m\u001b[0;34m\u001b[0m\u001b[0;34m\u001b[0m\u001b[0m\n\u001b[1;32m    393\u001b[0m   \u001b[0;32mtry\u001b[0m\u001b[0;34m:\u001b[0m\u001b[0;34m\u001b[0m\u001b[0;34m\u001b[0m\u001b[0m\n",
      "\u001b[0;32m~/.local/share/virtualenvs/python-machine-learning-book-2nd-edition-WTV_pu26/lib/python3.7/site-packages/six.py\u001b[0m in \u001b[0;36mraise_from\u001b[0;34m(value, from_value)\u001b[0m\n",
      "\u001b[0;31mInvalidArgumentError\u001b[0m: Incompatible shapes: [3] vs. [2] [Op:Add]"
     ],
     "ename": "InvalidArgumentError",
     "evalue": "Incompatible shapes: [3] vs. [2] [Op:Add]",
     "output_type": "error"
    }
   ],
   "source": [
    "a = tf.constant([1, 2, 3])\n",
    "b = tf.constant([1, 2])\n",
    "print(a)\n",
    "print(b)\n",
    "c = tf.add(a, b)\n",
    "print(c)\n",
    "c"
   ],
   "metadata": {
    "collapsed": false,
    "pycharm": {
     "name": "#%%\n",
     "is_executing": false
    }
   }
  }
 ]
}