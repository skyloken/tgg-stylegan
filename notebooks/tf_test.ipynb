{
 "nbformat": 4,
 "nbformat_minor": 2,
 "metadata": {
  "language_info": {
   "name": "python",
   "codemirror_mode": {
    "name": "ipython",
    "version": 3
   },
   "version": "3.7.5"
  },
  "orig_nbformat": 2,
  "file_extension": ".py",
  "mimetype": "text/x-python",
  "name": "python",
  "npconvert_exporter": "python",
  "pygments_lexer": "ipython3",
  "version": 3
 },
 "cells": [
  {
   "source": [
    "import tensorflow as tf\n",
    "import numpy as np\n",
    "tf.enable_eager_execution()"
   ],
   "cell_type": "code",
   "outputs": [],
   "metadata": {},
   "execution_count": 2
  },
  {
   "source": [
    "src_dlatents = tf.constant([[[0, 1, 2]] * 14, [[3, 4, 5]] * 14])\n",
    "dst_dlatents = tf.constant([[[6, 7, 8]] * 14, [[9, 10, 11]] * 14])"
   ],
   "cell_type": "code",
   "outputs": [],
   "metadata": {},
   "execution_count": 3
  },
  {
   "source": [
    "print(src_dlatents)\n",
    "print(dst_dlatents)"
   ],
   "cell_type": "code",
   "outputs": [
    {
     "output_type": "stream",
     "name": "stdout",
     "text": "tf.Tensor(\n[[[0 1 2]\n  [0 1 2]\n  [0 1 2]\n  [0 1 2]\n  [0 1 2]\n  [0 1 2]\n  [0 1 2]\n  [0 1 2]\n  [0 1 2]\n  [0 1 2]\n  [0 1 2]\n  [0 1 2]\n  [0 1 2]\n  [0 1 2]]\n\n [[3 4 5]\n  [3 4 5]\n  [3 4 5]\n  [3 4 5]\n  [3 4 5]\n  [3 4 5]\n  [3 4 5]\n  [3 4 5]\n  [3 4 5]\n  [3 4 5]\n  [3 4 5]\n  [3 4 5]\n  [3 4 5]\n  [3 4 5]]], shape=(2, 14, 3), dtype=int32)\ntf.Tensor(\n[[[ 6  7  8]\n  [ 6  7  8]\n  [ 6  7  8]\n  [ 6  7  8]\n  [ 6  7  8]\n  [ 6  7  8]\n  [ 6  7  8]\n  [ 6  7  8]\n  [ 6  7  8]\n  [ 6  7  8]\n  [ 6  7  8]\n  [ 6  7  8]\n  [ 6  7  8]\n  [ 6  7  8]]\n\n [[ 9 10 11]\n  [ 9 10 11]\n  [ 9 10 11]\n  [ 9 10 11]\n  [ 9 10 11]\n  [ 9 10 11]\n  [ 9 10 11]\n  [ 9 10 11]\n  [ 9 10 11]\n  [ 9 10 11]\n  [ 9 10 11]\n  [ 9 10 11]\n  [ 9 10 11]\n  [ 9 10 11]]], shape=(2, 14, 3), dtype=int32)\n"
    }
   ],
   "metadata": {},
   "execution_count": 4
  },
  {
   "source": [
    "mixed_dlatents = []\n",
    "for i in range(0, src_dlatents.get_shape().as_list()[0]):\n",
    "    middle_dlatent = tf.concat([tf.gather(src_dlatents[i], range(0, 4)), tf.gather(dst_dlatents[i], range(4, 8)), tf.gather(src_dlatents[i], range(8, 14))], 0)\n",
    "    fine_dlatent = tf.concat([tf.gather(src_dlatents[i], range(0, 8)), tf.gather(dst_dlatents[i], range(8, 14))], 0)\n",
    "    mixed_dlatents.append(middle_dlatent)\n",
    "    mixed_dlatents.append(fine_dlatent)\n",
    "mixed_dlatents = tf.stack(mixed_dlatents)\n",
    "print(mixed_dlatents)\n",
    "\n",
    "\n",
    ""
   ],
   "cell_type": "code",
   "outputs": [
    {
     "output_type": "stream",
     "name": "stdout",
     "text": "tf.Tensor(\n[[[ 0  1  2]\n  [ 0  1  2]\n  [ 0  1  2]\n  [ 0  1  2]\n  [ 6  7  8]\n  [ 6  7  8]\n  [ 6  7  8]\n  [ 6  7  8]\n  [ 0  1  2]\n  [ 0  1  2]\n  [ 0  1  2]\n  [ 0  1  2]\n  [ 0  1  2]\n  [ 0  1  2]]\n\n [[ 0  1  2]\n  [ 0  1  2]\n  [ 0  1  2]\n  [ 0  1  2]\n  [ 0  1  2]\n  [ 0  1  2]\n  [ 0  1  2]\n  [ 0  1  2]\n  [ 6  7  8]\n  [ 6  7  8]\n  [ 6  7  8]\n  [ 6  7  8]\n  [ 6  7  8]\n  [ 6  7  8]]\n\n [[ 3  4  5]\n  [ 3  4  5]\n  [ 3  4  5]\n  [ 3  4  5]\n  [ 9 10 11]\n  [ 9 10 11]\n  [ 9 10 11]\n  [ 9 10 11]\n  [ 3  4  5]\n  [ 3  4  5]\n  [ 3  4  5]\n  [ 3  4  5]\n  [ 3  4  5]\n  [ 3  4  5]]\n\n [[ 3  4  5]\n  [ 3  4  5]\n  [ 3  4  5]\n  [ 3  4  5]\n  [ 3  4  5]\n  [ 3  4  5]\n  [ 3  4  5]\n  [ 3  4  5]\n  [ 9 10 11]\n  [ 9 10 11]\n  [ 9 10 11]\n  [ 9 10 11]\n  [ 9 10 11]\n  [ 9 10 11]]], shape=(4, 14, 3), dtype=int32)\n"
    }
   ],
   "metadata": {},
   "execution_count": 5
  },
  {
   "cell_type": "code",
   "execution_count": null,
   "metadata": {},
   "outputs": [],
   "source": []
  },
  {
   "source": [
    "def mix_middle(x):\n",
    "    return tf.concat([tf.gather(x[0], list(range(0, 4))), tf.gather(x[1], list(range(4, 8))),\n",
    "                      tf.gather(x[0], list(range(8, 14)))], 0)\n",
    "\n",
    "def mix_fine(x):\n",
    "    return tf.concat([tf.gather(x[0], list(range(0, 8))), tf.gather(x[1], list(range(8, 14)))], 0)\n",
    "\n",
    "def mix_dlatents(src_dlatents, dst_dlatents):\n",
    "    stacked_dlatents = tf.stack([src_dlatents, dst_dlatents], axis=1)\n",
    "    middle_dlatents = tf.map_fn(mix_middle, stacked_dlatents)\n",
    "    fine_dlatents = tf.map_fn(mix_fine, stacked_dlatents)\n",
    "    return tf.concat([middle_dlatents, fine_dlatents], 0)\n",
    "\n",
    "print(mix_dlatents(src_dlatents, dst_dlatents))\n",
    ""
   ],
   "cell_type": "code",
   "outputs": [
    {
     "output_type": "stream",
     "name": "stdout",
     "text": "tf.Tensor(\n[[[ 0  1  2]\n  [ 0  1  2]\n  [ 0  1  2]\n  [ 0  1  2]\n  [ 6  7  8]\n  [ 6  7  8]\n  [ 6  7  8]\n  [ 6  7  8]\n  [ 0  1  2]\n  [ 0  1  2]\n  [ 0  1  2]\n  [ 0  1  2]\n  [ 0  1  2]\n  [ 0  1  2]]\n\n [[ 3  4  5]\n  [ 3  4  5]\n  [ 3  4  5]\n  [ 3  4  5]\n  [ 9 10 11]\n  [ 9 10 11]\n  [ 9 10 11]\n  [ 9 10 11]\n  [ 3  4  5]\n  [ 3  4  5]\n  [ 3  4  5]\n  [ 3  4  5]\n  [ 3  4  5]\n  [ 3  4  5]]\n\n [[ 0  1  2]\n  [ 0  1  2]\n  [ 0  1  2]\n  [ 0  1  2]\n  [ 0  1  2]\n  [ 0  1  2]\n  [ 0  1  2]\n  [ 0  1  2]\n  [ 6  7  8]\n  [ 6  7  8]\n  [ 6  7  8]\n  [ 6  7  8]\n  [ 6  7  8]\n  [ 6  7  8]]\n\n [[ 3  4  5]\n  [ 3  4  5]\n  [ 3  4  5]\n  [ 3  4  5]\n  [ 3  4  5]\n  [ 3  4  5]\n  [ 3  4  5]\n  [ 3  4  5]\n  [ 9 10 11]\n  [ 9 10 11]\n  [ 9 10 11]\n  [ 9 10 11]\n  [ 9 10 11]\n  [ 9 10 11]]], shape=(4, 14, 3), dtype=int32)\n"
    }
   ],
   "metadata": {},
   "execution_count": 16
  }
 ]
}